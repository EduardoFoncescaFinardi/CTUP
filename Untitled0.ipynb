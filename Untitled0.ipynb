{
  "nbformat": 4,
  "nbformat_minor": 0,
  "metadata": {
    "colab": {
      "provenance": [],
      "authorship_tag": "ABX9TyNhtTUyxlKUEFVbh/Meb1ly",
      "include_colab_link": true
    },
    "kernelspec": {
      "name": "python3",
      "display_name": "Python 3"
    },
    "language_info": {
      "name": "python"
    }
  },
  "cells": [
    {
      "cell_type": "markdown",
      "metadata": {
        "id": "view-in-github",
        "colab_type": "text"
      },
      "source": [
        "<a href=\"https://colab.research.google.com/github/EduardoFoncescaFinardi/CTUP/blob/main/Untitled0.ipynb\" target=\"_parent\"><img src=\"https://colab.research.google.com/assets/colab-badge.svg\" alt=\"Open In Colab\"/></a>"
      ]
    },
    {
      "cell_type": "code",
      "execution_count": 1,
      "metadata": {
        "id": "LKCBO7ZKJIWt"
      },
      "outputs": [],
      "source": [
        "import numpy as np\n",
        "import pandas as pd\n",
        "import matplotlib.pyplot as plt\n",
        "import scipy as sc\n",
        "import seaborn as sns\n",
        "import math"
      ]
    },
    {
      "cell_type": "code",
      "source": [
        "dados = pd.read_csv(\"/CP5 - PY - Página1 (2).csv\")"
      ],
      "metadata": {
        "id": "ngsnR0utJUTI"
      },
      "execution_count": 3,
      "outputs": []
    },
    {
      "cell_type": "code",
      "source": [
        "dados.info()"
      ],
      "metadata": {
        "colab": {
          "base_uri": "https://localhost:8080/"
        },
        "id": "bU_Jdy8YJUVw",
        "outputId": "23393ea7-28f7-451f-cbc4-b4c31c9b4087"
      },
      "execution_count": 4,
      "outputs": [
        {
          "output_type": "stream",
          "name": "stdout",
          "text": [
            "<class 'pandas.core.frame.DataFrame'>\n",
            "RangeIndex: 15 entries, 0 to 14\n",
            "Data columns (total 5 columns):\n",
            " #   Column                             Non-Null Count  Dtype  \n",
            "---  ------                             --------------  -----  \n",
            " 0   QUANTIDADE DE NÚMEROS              15 non-null     object \n",
            " 1   BubbleSort (tempo em segundos)     15 non-null     float64\n",
            " 2   SelectionSort (tempo em segundos)  15 non-null     float64\n",
            " 3   InsertionSort (tempo em segundos)  15 non-null     float64\n",
            " 4   MergeSort (tempo em segundos)      15 non-null     float64\n",
            "dtypes: float64(4), object(1)\n",
            "memory usage: 728.0+ bytes\n"
          ]
        }
      ]
    },
    {
      "cell_type": "code",
      "source": [
        "dados.head(15)"
      ],
      "metadata": {
        "colab": {
          "base_uri": "https://localhost:8080/",
          "height": 537
        },
        "id": "HNO6SV83JUYO",
        "outputId": "27bf7e8c-8c61-46a5-f1c6-6ae886ce6ef5"
      },
      "execution_count": 36,
      "outputs": [
        {
          "output_type": "execute_result",
          "data": {
            "text/plain": [
              "   QUANTIDADE DE NÚMEROS  BubbleSort (tempo em segundos)  \\\n",
              "0        teste 1 - 5 mil                           0.170   \n",
              "1        teste 2 - 5 mil                           0.160   \n",
              "2        teste 3 - 5 mil                           0.210   \n",
              "3       teste 1 - 10 mil                           0.385   \n",
              "4       teste 2 - 10 mil                           0.384   \n",
              "5       teste 3 - 10 mil                           0.412   \n",
              "6       teste 1 - 15 mil                           0.602   \n",
              "7       teste 2 - 15 mil                           0.625   \n",
              "8       teste 3 - 15 mil                           0.618   \n",
              "9       teste 1 - 25 mil                           1.186   \n",
              "10      teste 2 - 25 mil                           1.189   \n",
              "11      teste 3 - 25 mil                           1.100   \n",
              "12      teste 1 - 50 mil                           2.235   \n",
              "13      teste 2 - 50 mil                           2.222   \n",
              "14      teste 3 - 50 mil                           2.436   \n",
              "\n",
              "    SelectionSort (tempo em segundos)  InsertionSort (tempo em segundos)  \\\n",
              "0                               0.195                              0.195   \n",
              "1                               0.190                              0.189   \n",
              "2                               0.190                              0.192   \n",
              "3                               0.416                              0.403   \n",
              "4                               0.415                              0.417   \n",
              "5                               0.416                              0.460   \n",
              "6                               0.640                              0.675   \n",
              "7                               0.639                              0.619   \n",
              "8                               0.605                              0.610   \n",
              "9                               1.122                              1.115   \n",
              "10                              1.121                              1.119   \n",
              "11                              1.102                              1.144   \n",
              "12                              2.409                              2.264   \n",
              "13                              2.277                              2.361   \n",
              "14                              2.284                              2.252   \n",
              "\n",
              "    MergeSort (tempo em segundos)  \n",
              "0                           0.217  \n",
              "1                           0.192  \n",
              "2                           0.217  \n",
              "3                           0.408  \n",
              "4                           0.418  \n",
              "5                           0.415  \n",
              "6                           0.602  \n",
              "7                           0.716  \n",
              "8                           0.613  \n",
              "9                           1.105  \n",
              "10                          1.207  \n",
              "11                          1.103  \n",
              "12                          2.372  \n",
              "13                          2.235  \n",
              "14                          2.234  "
            ],
            "text/html": [
              "\n",
              "  <div id=\"df-e62cf3f4-9e00-4dc1-8f33-da1802b33b24\" class=\"colab-df-container\">\n",
              "    <div>\n",
              "<style scoped>\n",
              "    .dataframe tbody tr th:only-of-type {\n",
              "        vertical-align: middle;\n",
              "    }\n",
              "\n",
              "    .dataframe tbody tr th {\n",
              "        vertical-align: top;\n",
              "    }\n",
              "\n",
              "    .dataframe thead th {\n",
              "        text-align: right;\n",
              "    }\n",
              "</style>\n",
              "<table border=\"1\" class=\"dataframe\">\n",
              "  <thead>\n",
              "    <tr style=\"text-align: right;\">\n",
              "      <th></th>\n",
              "      <th>QUANTIDADE DE NÚMEROS</th>\n",
              "      <th>BubbleSort (tempo em segundos)</th>\n",
              "      <th>SelectionSort (tempo em segundos)</th>\n",
              "      <th>InsertionSort (tempo em segundos)</th>\n",
              "      <th>MergeSort (tempo em segundos)</th>\n",
              "    </tr>\n",
              "  </thead>\n",
              "  <tbody>\n",
              "    <tr>\n",
              "      <th>0</th>\n",
              "      <td>teste 1 - 5 mil</td>\n",
              "      <td>0.170</td>\n",
              "      <td>0.195</td>\n",
              "      <td>0.195</td>\n",
              "      <td>0.217</td>\n",
              "    </tr>\n",
              "    <tr>\n",
              "      <th>1</th>\n",
              "      <td>teste 2 - 5 mil</td>\n",
              "      <td>0.160</td>\n",
              "      <td>0.190</td>\n",
              "      <td>0.189</td>\n",
              "      <td>0.192</td>\n",
              "    </tr>\n",
              "    <tr>\n",
              "      <th>2</th>\n",
              "      <td>teste 3 - 5 mil</td>\n",
              "      <td>0.210</td>\n",
              "      <td>0.190</td>\n",
              "      <td>0.192</td>\n",
              "      <td>0.217</td>\n",
              "    </tr>\n",
              "    <tr>\n",
              "      <th>3</th>\n",
              "      <td>teste 1 - 10 mil</td>\n",
              "      <td>0.385</td>\n",
              "      <td>0.416</td>\n",
              "      <td>0.403</td>\n",
              "      <td>0.408</td>\n",
              "    </tr>\n",
              "    <tr>\n",
              "      <th>4</th>\n",
              "      <td>teste 2 - 10 mil</td>\n",
              "      <td>0.384</td>\n",
              "      <td>0.415</td>\n",
              "      <td>0.417</td>\n",
              "      <td>0.418</td>\n",
              "    </tr>\n",
              "    <tr>\n",
              "      <th>5</th>\n",
              "      <td>teste 3 - 10 mil</td>\n",
              "      <td>0.412</td>\n",
              "      <td>0.416</td>\n",
              "      <td>0.460</td>\n",
              "      <td>0.415</td>\n",
              "    </tr>\n",
              "    <tr>\n",
              "      <th>6</th>\n",
              "      <td>teste 1 - 15 mil</td>\n",
              "      <td>0.602</td>\n",
              "      <td>0.640</td>\n",
              "      <td>0.675</td>\n",
              "      <td>0.602</td>\n",
              "    </tr>\n",
              "    <tr>\n",
              "      <th>7</th>\n",
              "      <td>teste 2 - 15 mil</td>\n",
              "      <td>0.625</td>\n",
              "      <td>0.639</td>\n",
              "      <td>0.619</td>\n",
              "      <td>0.716</td>\n",
              "    </tr>\n",
              "    <tr>\n",
              "      <th>8</th>\n",
              "      <td>teste 3 - 15 mil</td>\n",
              "      <td>0.618</td>\n",
              "      <td>0.605</td>\n",
              "      <td>0.610</td>\n",
              "      <td>0.613</td>\n",
              "    </tr>\n",
              "    <tr>\n",
              "      <th>9</th>\n",
              "      <td>teste 1 - 25 mil</td>\n",
              "      <td>1.186</td>\n",
              "      <td>1.122</td>\n",
              "      <td>1.115</td>\n",
              "      <td>1.105</td>\n",
              "    </tr>\n",
              "    <tr>\n",
              "      <th>10</th>\n",
              "      <td>teste 2 - 25 mil</td>\n",
              "      <td>1.189</td>\n",
              "      <td>1.121</td>\n",
              "      <td>1.119</td>\n",
              "      <td>1.207</td>\n",
              "    </tr>\n",
              "    <tr>\n",
              "      <th>11</th>\n",
              "      <td>teste 3 - 25 mil</td>\n",
              "      <td>1.100</td>\n",
              "      <td>1.102</td>\n",
              "      <td>1.144</td>\n",
              "      <td>1.103</td>\n",
              "    </tr>\n",
              "    <tr>\n",
              "      <th>12</th>\n",
              "      <td>teste 1 - 50 mil</td>\n",
              "      <td>2.235</td>\n",
              "      <td>2.409</td>\n",
              "      <td>2.264</td>\n",
              "      <td>2.372</td>\n",
              "    </tr>\n",
              "    <tr>\n",
              "      <th>13</th>\n",
              "      <td>teste 2 - 50 mil</td>\n",
              "      <td>2.222</td>\n",
              "      <td>2.277</td>\n",
              "      <td>2.361</td>\n",
              "      <td>2.235</td>\n",
              "    </tr>\n",
              "    <tr>\n",
              "      <th>14</th>\n",
              "      <td>teste 3 - 50 mil</td>\n",
              "      <td>2.436</td>\n",
              "      <td>2.284</td>\n",
              "      <td>2.252</td>\n",
              "      <td>2.234</td>\n",
              "    </tr>\n",
              "  </tbody>\n",
              "</table>\n",
              "</div>\n",
              "    <div class=\"colab-df-buttons\">\n",
              "\n",
              "  <div class=\"colab-df-container\">\n",
              "    <button class=\"colab-df-convert\" onclick=\"convertToInteractive('df-e62cf3f4-9e00-4dc1-8f33-da1802b33b24')\"\n",
              "            title=\"Convert this dataframe to an interactive table.\"\n",
              "            style=\"display:none;\">\n",
              "\n",
              "  <svg xmlns=\"http://www.w3.org/2000/svg\" height=\"24px\" viewBox=\"0 -960 960 960\">\n",
              "    <path d=\"M120-120v-720h720v720H120Zm60-500h600v-160H180v160Zm220 220h160v-160H400v160Zm0 220h160v-160H400v160ZM180-400h160v-160H180v160Zm440 0h160v-160H620v160ZM180-180h160v-160H180v160Zm440 0h160v-160H620v160Z\"/>\n",
              "  </svg>\n",
              "    </button>\n",
              "\n",
              "  <style>\n",
              "    .colab-df-container {\n",
              "      display:flex;\n",
              "      gap: 12px;\n",
              "    }\n",
              "\n",
              "    .colab-df-convert {\n",
              "      background-color: #E8F0FE;\n",
              "      border: none;\n",
              "      border-radius: 50%;\n",
              "      cursor: pointer;\n",
              "      display: none;\n",
              "      fill: #1967D2;\n",
              "      height: 32px;\n",
              "      padding: 0 0 0 0;\n",
              "      width: 32px;\n",
              "    }\n",
              "\n",
              "    .colab-df-convert:hover {\n",
              "      background-color: #E2EBFA;\n",
              "      box-shadow: 0px 1px 2px rgba(60, 64, 67, 0.3), 0px 1px 3px 1px rgba(60, 64, 67, 0.15);\n",
              "      fill: #174EA6;\n",
              "    }\n",
              "\n",
              "    .colab-df-buttons div {\n",
              "      margin-bottom: 4px;\n",
              "    }\n",
              "\n",
              "    [theme=dark] .colab-df-convert {\n",
              "      background-color: #3B4455;\n",
              "      fill: #D2E3FC;\n",
              "    }\n",
              "\n",
              "    [theme=dark] .colab-df-convert:hover {\n",
              "      background-color: #434B5C;\n",
              "      box-shadow: 0px 1px 3px 1px rgba(0, 0, 0, 0.15);\n",
              "      filter: drop-shadow(0px 1px 2px rgba(0, 0, 0, 0.3));\n",
              "      fill: #FFFFFF;\n",
              "    }\n",
              "  </style>\n",
              "\n",
              "    <script>\n",
              "      const buttonEl =\n",
              "        document.querySelector('#df-e62cf3f4-9e00-4dc1-8f33-da1802b33b24 button.colab-df-convert');\n",
              "      buttonEl.style.display =\n",
              "        google.colab.kernel.accessAllowed ? 'block' : 'none';\n",
              "\n",
              "      async function convertToInteractive(key) {\n",
              "        const element = document.querySelector('#df-e62cf3f4-9e00-4dc1-8f33-da1802b33b24');\n",
              "        const dataTable =\n",
              "          await google.colab.kernel.invokeFunction('convertToInteractive',\n",
              "                                                    [key], {});\n",
              "        if (!dataTable) return;\n",
              "\n",
              "        const docLinkHtml = 'Like what you see? Visit the ' +\n",
              "          '<a target=\"_blank\" href=https://colab.research.google.com/notebooks/data_table.ipynb>data table notebook</a>'\n",
              "          + ' to learn more about interactive tables.';\n",
              "        element.innerHTML = '';\n",
              "        dataTable['output_type'] = 'display_data';\n",
              "        await google.colab.output.renderOutput(dataTable, element);\n",
              "        const docLink = document.createElement('div');\n",
              "        docLink.innerHTML = docLinkHtml;\n",
              "        element.appendChild(docLink);\n",
              "      }\n",
              "    </script>\n",
              "  </div>\n",
              "\n",
              "\n",
              "<div id=\"df-41bb3459-b3df-4816-90a8-54a07e927c27\">\n",
              "  <button class=\"colab-df-quickchart\" onclick=\"quickchart('df-41bb3459-b3df-4816-90a8-54a07e927c27')\"\n",
              "            title=\"Suggest charts.\"\n",
              "            style=\"display:none;\">\n",
              "\n",
              "<svg xmlns=\"http://www.w3.org/2000/svg\" height=\"24px\"viewBox=\"0 0 24 24\"\n",
              "     width=\"24px\">\n",
              "    <g>\n",
              "        <path d=\"M19 3H5c-1.1 0-2 .9-2 2v14c0 1.1.9 2 2 2h14c1.1 0 2-.9 2-2V5c0-1.1-.9-2-2-2zM9 17H7v-7h2v7zm4 0h-2V7h2v10zm4 0h-2v-4h2v4z\"/>\n",
              "    </g>\n",
              "</svg>\n",
              "  </button>\n",
              "\n",
              "<style>\n",
              "  .colab-df-quickchart {\n",
              "      --bg-color: #E8F0FE;\n",
              "      --fill-color: #1967D2;\n",
              "      --hover-bg-color: #E2EBFA;\n",
              "      --hover-fill-color: #174EA6;\n",
              "      --disabled-fill-color: #AAA;\n",
              "      --disabled-bg-color: #DDD;\n",
              "  }\n",
              "\n",
              "  [theme=dark] .colab-df-quickchart {\n",
              "      --bg-color: #3B4455;\n",
              "      --fill-color: #D2E3FC;\n",
              "      --hover-bg-color: #434B5C;\n",
              "      --hover-fill-color: #FFFFFF;\n",
              "      --disabled-bg-color: #3B4455;\n",
              "      --disabled-fill-color: #666;\n",
              "  }\n",
              "\n",
              "  .colab-df-quickchart {\n",
              "    background-color: var(--bg-color);\n",
              "    border: none;\n",
              "    border-radius: 50%;\n",
              "    cursor: pointer;\n",
              "    display: none;\n",
              "    fill: var(--fill-color);\n",
              "    height: 32px;\n",
              "    padding: 0;\n",
              "    width: 32px;\n",
              "  }\n",
              "\n",
              "  .colab-df-quickchart:hover {\n",
              "    background-color: var(--hover-bg-color);\n",
              "    box-shadow: 0 1px 2px rgba(60, 64, 67, 0.3), 0 1px 3px 1px rgba(60, 64, 67, 0.15);\n",
              "    fill: var(--button-hover-fill-color);\n",
              "  }\n",
              "\n",
              "  .colab-df-quickchart-complete:disabled,\n",
              "  .colab-df-quickchart-complete:disabled:hover {\n",
              "    background-color: var(--disabled-bg-color);\n",
              "    fill: var(--disabled-fill-color);\n",
              "    box-shadow: none;\n",
              "  }\n",
              "\n",
              "  .colab-df-spinner {\n",
              "    border: 2px solid var(--fill-color);\n",
              "    border-color: transparent;\n",
              "    border-bottom-color: var(--fill-color);\n",
              "    animation:\n",
              "      spin 1s steps(1) infinite;\n",
              "  }\n",
              "\n",
              "  @keyframes spin {\n",
              "    0% {\n",
              "      border-color: transparent;\n",
              "      border-bottom-color: var(--fill-color);\n",
              "      border-left-color: var(--fill-color);\n",
              "    }\n",
              "    20% {\n",
              "      border-color: transparent;\n",
              "      border-left-color: var(--fill-color);\n",
              "      border-top-color: var(--fill-color);\n",
              "    }\n",
              "    30% {\n",
              "      border-color: transparent;\n",
              "      border-left-color: var(--fill-color);\n",
              "      border-top-color: var(--fill-color);\n",
              "      border-right-color: var(--fill-color);\n",
              "    }\n",
              "    40% {\n",
              "      border-color: transparent;\n",
              "      border-right-color: var(--fill-color);\n",
              "      border-top-color: var(--fill-color);\n",
              "    }\n",
              "    60% {\n",
              "      border-color: transparent;\n",
              "      border-right-color: var(--fill-color);\n",
              "    }\n",
              "    80% {\n",
              "      border-color: transparent;\n",
              "      border-right-color: var(--fill-color);\n",
              "      border-bottom-color: var(--fill-color);\n",
              "    }\n",
              "    90% {\n",
              "      border-color: transparent;\n",
              "      border-bottom-color: var(--fill-color);\n",
              "    }\n",
              "  }\n",
              "</style>\n",
              "\n",
              "  <script>\n",
              "    async function quickchart(key) {\n",
              "      const quickchartButtonEl =\n",
              "        document.querySelector('#' + key + ' button');\n",
              "      quickchartButtonEl.disabled = true;  // To prevent multiple clicks.\n",
              "      quickchartButtonEl.classList.add('colab-df-spinner');\n",
              "      try {\n",
              "        const charts = await google.colab.kernel.invokeFunction(\n",
              "            'suggestCharts', [key], {});\n",
              "      } catch (error) {\n",
              "        console.error('Error during call to suggestCharts:', error);\n",
              "      }\n",
              "      quickchartButtonEl.classList.remove('colab-df-spinner');\n",
              "      quickchartButtonEl.classList.add('colab-df-quickchart-complete');\n",
              "    }\n",
              "    (() => {\n",
              "      let quickchartButtonEl =\n",
              "        document.querySelector('#df-41bb3459-b3df-4816-90a8-54a07e927c27 button');\n",
              "      quickchartButtonEl.style.display =\n",
              "        google.colab.kernel.accessAllowed ? 'block' : 'none';\n",
              "    })();\n",
              "  </script>\n",
              "</div>\n",
              "    </div>\n",
              "  </div>\n"
            ]
          },
          "metadata": {},
          "execution_count": 36
        }
      ]
    },
    {
      "cell_type": "code",
      "source": [
        "Bubble_5k = dados.iloc[0:3, 1]\n",
        "media = Bubble_5k.mean()\n",
        "print(\"média:\", media)"
      ],
      "metadata": {
        "colab": {
          "base_uri": "https://localhost:8080/"
        },
        "id": "hcLG6vQzJUaU",
        "outputId": "03a30634-77e1-4d28-f30f-9565714e44a1"
      },
      "execution_count": 6,
      "outputs": [
        {
          "output_type": "stream",
          "name": "stdout",
          "text": [
            "média: 0.18000000000000002\n"
          ]
        }
      ]
    },
    {
      "cell_type": "code",
      "source": [
        "Selection_5k = dados.iloc[0:3, 2]\n",
        "media = Selection_5k.mean()\n",
        "print(\"média:\", media)"
      ],
      "metadata": {
        "colab": {
          "base_uri": "https://localhost:8080/"
        },
        "id": "fBXL8HqgJUcp",
        "outputId": "d57c7cf2-222e-4947-d592-579a2532ca5f"
      },
      "execution_count": 7,
      "outputs": [
        {
          "output_type": "stream",
          "name": "stdout",
          "text": [
            "média: 0.19166666666666665\n"
          ]
        }
      ]
    },
    {
      "cell_type": "code",
      "source": [
        "Insertion_5k = dados.iloc[0:3, 3]\n",
        "media = Insertion_5k.mean()\n",
        "print(\"média:\", media)"
      ],
      "metadata": {
        "colab": {
          "base_uri": "https://localhost:8080/"
        },
        "id": "jsrYe72FJUe3",
        "outputId": "602b57c3-59b3-4dcf-e175-dadc78214a35"
      },
      "execution_count": 8,
      "outputs": [
        {
          "output_type": "stream",
          "name": "stdout",
          "text": [
            "média: 0.19200000000000003\n"
          ]
        }
      ]
    },
    {
      "cell_type": "code",
      "source": [
        "Merge_5k = dados.iloc[0:3, 4]\n",
        "media = Merge_5k.mean()\n",
        "print(\"média:\", media)"
      ],
      "metadata": {
        "colab": {
          "base_uri": "https://localhost:8080/"
        },
        "id": "YBTIndq3JUhO",
        "outputId": "ec57a79c-b506-41e7-c5bb-32c7aa1d63af"
      },
      "execution_count": 9,
      "outputs": [
        {
          "output_type": "stream",
          "name": "stdout",
          "text": [
            "média: 0.20866666666666667\n"
          ]
        }
      ]
    },
    {
      "cell_type": "code",
      "source": [
        "Bubble_10k = dados.iloc[3:6, 1]\n",
        "media = Bubble_10k.mean()\n",
        "print(\"média:\", media)"
      ],
      "metadata": {
        "colab": {
          "base_uri": "https://localhost:8080/"
        },
        "id": "1Z5_T_i_JhlX",
        "outputId": "d9222f99-1279-4177-9a66-5afd03ef2064"
      },
      "execution_count": 10,
      "outputs": [
        {
          "output_type": "stream",
          "name": "stdout",
          "text": [
            "média: 0.39366666666666666\n"
          ]
        }
      ]
    },
    {
      "cell_type": "code",
      "source": [
        "Selection_10k = dados.iloc[3:6, 2]\n",
        "media = Selection_10k.mean()\n",
        "print(\"média:\", media)"
      ],
      "metadata": {
        "colab": {
          "base_uri": "https://localhost:8080/"
        },
        "id": "hLbCKjLWJhnj",
        "outputId": "e2137bdf-7873-4530-a33b-c474e9a0b8c1"
      },
      "execution_count": 12,
      "outputs": [
        {
          "output_type": "stream",
          "name": "stdout",
          "text": [
            "média: 0.41566666666666663\n"
          ]
        }
      ]
    },
    {
      "cell_type": "code",
      "source": [
        "Insertion_10k = dados.iloc[3:6, 3]\n",
        "media = Insertion_10k.mean()\n",
        "print(\"média:\", media)"
      ],
      "metadata": {
        "colab": {
          "base_uri": "https://localhost:8080/"
        },
        "id": "sw_zvq_pJhp3",
        "outputId": "67541e91-b351-4208-af92-3a231c551894"
      },
      "execution_count": 13,
      "outputs": [
        {
          "output_type": "stream",
          "name": "stdout",
          "text": [
            "média: 0.4266666666666667\n"
          ]
        }
      ]
    },
    {
      "cell_type": "code",
      "source": [
        "Merge_10k = dados.iloc[3:6, 4]\n",
        "media = Merge_10k.mean()\n",
        "print(\"média:\", media)"
      ],
      "metadata": {
        "colab": {
          "base_uri": "https://localhost:8080/"
        },
        "id": "yj1AxzYqJhr4",
        "outputId": "771ee3db-d2f9-4d75-b155-be46bcf70769"
      },
      "execution_count": 14,
      "outputs": [
        {
          "output_type": "stream",
          "name": "stdout",
          "text": [
            "média: 0.4136666666666666\n"
          ]
        }
      ]
    },
    {
      "cell_type": "code",
      "source": [
        "Bubble_15k = dados.iloc[6:9, 1]\n",
        "media = Bubble_15k.mean()\n",
        "print(\"média:\", media)"
      ],
      "metadata": {
        "colab": {
          "base_uri": "https://localhost:8080/"
        },
        "id": "a8iFMuh-Jhud",
        "outputId": "fa28184a-ab1a-4e0c-ee96-65e2dea70235"
      },
      "execution_count": 15,
      "outputs": [
        {
          "output_type": "stream",
          "name": "stdout",
          "text": [
            "média: 0.6149999999999999\n"
          ]
        }
      ]
    },
    {
      "cell_type": "code",
      "source": [
        "Selection_15k = dados.iloc[6:9, 2]\n",
        "media = Selection_15k.mean()\n",
        "print(\"média:\", media)"
      ],
      "metadata": {
        "colab": {
          "base_uri": "https://localhost:8080/"
        },
        "id": "ApbFP30pJhwo",
        "outputId": "160e21dd-afc7-4769-f8ce-7a010add15d0"
      },
      "execution_count": 17,
      "outputs": [
        {
          "output_type": "stream",
          "name": "stdout",
          "text": [
            "média: 0.628\n"
          ]
        }
      ]
    },
    {
      "cell_type": "code",
      "source": [
        "Insertion_15k = dados.iloc[6:9, 3]\n",
        "media = Insertion_15k.mean()\n",
        "print(\"média:\", media)"
      ],
      "metadata": {
        "colab": {
          "base_uri": "https://localhost:8080/"
        },
        "id": "pZ2Q473_Jh09",
        "outputId": "3c326f20-30ef-415e-afaf-7e6913f32ac7"
      },
      "execution_count": 18,
      "outputs": [
        {
          "output_type": "stream",
          "name": "stdout",
          "text": [
            "média: 0.6346666666666666\n"
          ]
        }
      ]
    },
    {
      "cell_type": "code",
      "source": [
        "Merge_15k = dados.iloc[6:9, 4]\n",
        "media = Merge_15k.mean()\n",
        "print(\"média:\", media)"
      ],
      "metadata": {
        "colab": {
          "base_uri": "https://localhost:8080/"
        },
        "id": "gmOaEPIULVvI",
        "outputId": "f94b424e-1360-4d58-f6fd-57d771a4a3da"
      },
      "execution_count": 19,
      "outputs": [
        {
          "output_type": "stream",
          "name": "stdout",
          "text": [
            "média: 0.6436666666666667\n"
          ]
        }
      ]
    },
    {
      "cell_type": "code",
      "source": [
        "Bubble_25k = dados.iloc[9:12, 1]\n",
        "media = Bubble_25k.mean()\n",
        "print(\"média:\", media)"
      ],
      "metadata": {
        "colab": {
          "base_uri": "https://localhost:8080/"
        },
        "id": "CeYi2G22LV2q",
        "outputId": "ab021075-a3ec-4c0f-8481-497ff1634f88"
      },
      "execution_count": 24,
      "outputs": [
        {
          "output_type": "stream",
          "name": "stdout",
          "text": [
            "média: 1.1583333333333334\n"
          ]
        }
      ]
    },
    {
      "cell_type": "code",
      "source": [
        "Selection_25k = dados.iloc[9:12, 2]\n",
        "media = Selection_25k.mean()\n",
        "print(\"média:\", media)"
      ],
      "metadata": {
        "colab": {
          "base_uri": "https://localhost:8080/"
        },
        "id": "gPQZ53HQLV5I",
        "outputId": "d9ae2830-9ea8-40e9-bf43-9d2b22df175b"
      },
      "execution_count": 25,
      "outputs": [
        {
          "output_type": "stream",
          "name": "stdout",
          "text": [
            "média: 1.1150000000000002\n"
          ]
        }
      ]
    },
    {
      "cell_type": "code",
      "source": [
        "Insertion_25k = dados.iloc[9:12, 3]\n",
        "media = Insertion_25k.mean()\n",
        "print(\"média:\", media)"
      ],
      "metadata": {
        "colab": {
          "base_uri": "https://localhost:8080/"
        },
        "id": "aW5uGFSzLV7H",
        "outputId": "f1af35c5-eb85-4225-dd8f-797d05a142ca"
      },
      "execution_count": 26,
      "outputs": [
        {
          "output_type": "stream",
          "name": "stdout",
          "text": [
            "média: 1.1260000000000001\n"
          ]
        }
      ]
    },
    {
      "cell_type": "code",
      "source": [
        "Merge_25k = dados.iloc[9:12, 4]\n",
        "media = Merge_25k.mean()\n",
        "print(\"média:\", media)"
      ],
      "metadata": {
        "colab": {
          "base_uri": "https://localhost:8080/"
        },
        "id": "opBpx61tL_Tf",
        "outputId": "3132a6f9-b57f-436e-bd68-d5d92dbb10db"
      },
      "execution_count": 27,
      "outputs": [
        {
          "output_type": "stream",
          "name": "stdout",
          "text": [
            "média: 1.1383333333333334\n"
          ]
        }
      ]
    },
    {
      "cell_type": "code",
      "source": [
        "Bubble_50k = dados.iloc[12:15, 1]\n",
        "media = Bubble_50k.mean()\n",
        "print(\"média:\", media)"
      ],
      "metadata": {
        "colab": {
          "base_uri": "https://localhost:8080/"
        },
        "id": "Te-w-oy2L_V6",
        "outputId": "791606aa-7681-4d48-d930-09a50ded6302"
      },
      "execution_count": 28,
      "outputs": [
        {
          "output_type": "stream",
          "name": "stdout",
          "text": [
            "média: 2.2976666666666667\n"
          ]
        }
      ]
    },
    {
      "cell_type": "code",
      "source": [
        "Selection_50k = dados.iloc[12:15, 2]\n",
        "media = Selection_50k.mean()\n",
        "print(\"média:\", media)"
      ],
      "metadata": {
        "colab": {
          "base_uri": "https://localhost:8080/"
        },
        "id": "ENrZhQBZL_YO",
        "outputId": "378cb499-58af-4d8b-8e2d-026ad1b0a8c6"
      },
      "execution_count": 29,
      "outputs": [
        {
          "output_type": "stream",
          "name": "stdout",
          "text": [
            "média: 2.3233333333333333\n"
          ]
        }
      ]
    },
    {
      "cell_type": "code",
      "source": [
        "Insertion_50k = dados.iloc[12:15, 3]\n",
        "media = Insertion_50k.mean()\n",
        "print(\"média:\", media)"
      ],
      "metadata": {
        "colab": {
          "base_uri": "https://localhost:8080/"
        },
        "id": "Bt7DZ31LMtaJ",
        "outputId": "d703cb0b-05d5-4106-bf81-9c2855194c5c"
      },
      "execution_count": 30,
      "outputs": [
        {
          "output_type": "stream",
          "name": "stdout",
          "text": [
            "média: 2.292333333333333\n"
          ]
        }
      ]
    },
    {
      "cell_type": "code",
      "source": [
        "Merge_50k = dados.iloc[12:15, 4]\n",
        "media = Merge_50k.mean()\n",
        "print(\"média:\", media)"
      ],
      "metadata": {
        "colab": {
          "base_uri": "https://localhost:8080/"
        },
        "id": "PekhtNiQMtig",
        "outputId": "e6f189ff-9473-43ee-c5c4-00d2085beddc"
      },
      "execution_count": 31,
      "outputs": [
        {
          "output_type": "stream",
          "name": "stdout",
          "text": [
            "média: 2.280333333333333\n"
          ]
        }
      ]
    },
    {
      "cell_type": "code",
      "source": [
        "dados_medias = pd.read_csv(\"/CP5 - PY - Medias.csv\")"
      ],
      "metadata": {
        "id": "pY0ouDJ2MtlA"
      },
      "execution_count": 32,
      "outputs": []
    },
    {
      "cell_type": "code",
      "source": [
        "dados_medias.head()"
      ],
      "metadata": {
        "colab": {
          "base_uri": "https://localhost:8080/",
          "height": 206
        },
        "id": "VA8_9zruMtnO",
        "outputId": "67d96583-fb9b-4e29-bdfb-9260c0e250d1"
      },
      "execution_count": 34,
      "outputs": [
        {
          "output_type": "execute_result",
          "data": {
            "text/plain": [
              "  Média geral (tempo em segundos)  BubbleSort  SelectionSort  InsertionSort  \\\n",
              "0                   Media - 5 mil    0.180000       0.191667       0.192000   \n",
              "1                  Media - 10 mil    0.393667       0.415667       0.426667   \n",
              "2                  Media - 15 mil    0.615000       0.628000       0.634667   \n",
              "3                  Media - 25 mil    1.158333       1.115000       1.126000   \n",
              "4                  Media - 50 mil    2.297667       2.323333       2.292333   \n",
              "\n",
              "   MergeSort  \n",
              "0   0.208667  \n",
              "1   0.413667  \n",
              "2   0.643667  \n",
              "3   1.138333  \n",
              "4   2.280333  "
            ],
            "text/html": [
              "\n",
              "  <div id=\"df-a84a9373-aff4-42f3-898d-f61fae44a0a4\" class=\"colab-df-container\">\n",
              "    <div>\n",
              "<style scoped>\n",
              "    .dataframe tbody tr th:only-of-type {\n",
              "        vertical-align: middle;\n",
              "    }\n",
              "\n",
              "    .dataframe tbody tr th {\n",
              "        vertical-align: top;\n",
              "    }\n",
              "\n",
              "    .dataframe thead th {\n",
              "        text-align: right;\n",
              "    }\n",
              "</style>\n",
              "<table border=\"1\" class=\"dataframe\">\n",
              "  <thead>\n",
              "    <tr style=\"text-align: right;\">\n",
              "      <th></th>\n",
              "      <th>Média geral (tempo em segundos)</th>\n",
              "      <th>BubbleSort</th>\n",
              "      <th>SelectionSort</th>\n",
              "      <th>InsertionSort</th>\n",
              "      <th>MergeSort</th>\n",
              "    </tr>\n",
              "  </thead>\n",
              "  <tbody>\n",
              "    <tr>\n",
              "      <th>0</th>\n",
              "      <td>Media - 5 mil</td>\n",
              "      <td>0.180000</td>\n",
              "      <td>0.191667</td>\n",
              "      <td>0.192000</td>\n",
              "      <td>0.208667</td>\n",
              "    </tr>\n",
              "    <tr>\n",
              "      <th>1</th>\n",
              "      <td>Media - 10 mil</td>\n",
              "      <td>0.393667</td>\n",
              "      <td>0.415667</td>\n",
              "      <td>0.426667</td>\n",
              "      <td>0.413667</td>\n",
              "    </tr>\n",
              "    <tr>\n",
              "      <th>2</th>\n",
              "      <td>Media - 15 mil</td>\n",
              "      <td>0.615000</td>\n",
              "      <td>0.628000</td>\n",
              "      <td>0.634667</td>\n",
              "      <td>0.643667</td>\n",
              "    </tr>\n",
              "    <tr>\n",
              "      <th>3</th>\n",
              "      <td>Media - 25 mil</td>\n",
              "      <td>1.158333</td>\n",
              "      <td>1.115000</td>\n",
              "      <td>1.126000</td>\n",
              "      <td>1.138333</td>\n",
              "    </tr>\n",
              "    <tr>\n",
              "      <th>4</th>\n",
              "      <td>Media - 50 mil</td>\n",
              "      <td>2.297667</td>\n",
              "      <td>2.323333</td>\n",
              "      <td>2.292333</td>\n",
              "      <td>2.280333</td>\n",
              "    </tr>\n",
              "  </tbody>\n",
              "</table>\n",
              "</div>\n",
              "    <div class=\"colab-df-buttons\">\n",
              "\n",
              "  <div class=\"colab-df-container\">\n",
              "    <button class=\"colab-df-convert\" onclick=\"convertToInteractive('df-a84a9373-aff4-42f3-898d-f61fae44a0a4')\"\n",
              "            title=\"Convert this dataframe to an interactive table.\"\n",
              "            style=\"display:none;\">\n",
              "\n",
              "  <svg xmlns=\"http://www.w3.org/2000/svg\" height=\"24px\" viewBox=\"0 -960 960 960\">\n",
              "    <path d=\"M120-120v-720h720v720H120Zm60-500h600v-160H180v160Zm220 220h160v-160H400v160Zm0 220h160v-160H400v160ZM180-400h160v-160H180v160Zm440 0h160v-160H620v160ZM180-180h160v-160H180v160Zm440 0h160v-160H620v160Z\"/>\n",
              "  </svg>\n",
              "    </button>\n",
              "\n",
              "  <style>\n",
              "    .colab-df-container {\n",
              "      display:flex;\n",
              "      gap: 12px;\n",
              "    }\n",
              "\n",
              "    .colab-df-convert {\n",
              "      background-color: #E8F0FE;\n",
              "      border: none;\n",
              "      border-radius: 50%;\n",
              "      cursor: pointer;\n",
              "      display: none;\n",
              "      fill: #1967D2;\n",
              "      height: 32px;\n",
              "      padding: 0 0 0 0;\n",
              "      width: 32px;\n",
              "    }\n",
              "\n",
              "    .colab-df-convert:hover {\n",
              "      background-color: #E2EBFA;\n",
              "      box-shadow: 0px 1px 2px rgba(60, 64, 67, 0.3), 0px 1px 3px 1px rgba(60, 64, 67, 0.15);\n",
              "      fill: #174EA6;\n",
              "    }\n",
              "\n",
              "    .colab-df-buttons div {\n",
              "      margin-bottom: 4px;\n",
              "    }\n",
              "\n",
              "    [theme=dark] .colab-df-convert {\n",
              "      background-color: #3B4455;\n",
              "      fill: #D2E3FC;\n",
              "    }\n",
              "\n",
              "    [theme=dark] .colab-df-convert:hover {\n",
              "      background-color: #434B5C;\n",
              "      box-shadow: 0px 1px 3px 1px rgba(0, 0, 0, 0.15);\n",
              "      filter: drop-shadow(0px 1px 2px rgba(0, 0, 0, 0.3));\n",
              "      fill: #FFFFFF;\n",
              "    }\n",
              "  </style>\n",
              "\n",
              "    <script>\n",
              "      const buttonEl =\n",
              "        document.querySelector('#df-a84a9373-aff4-42f3-898d-f61fae44a0a4 button.colab-df-convert');\n",
              "      buttonEl.style.display =\n",
              "        google.colab.kernel.accessAllowed ? 'block' : 'none';\n",
              "\n",
              "      async function convertToInteractive(key) {\n",
              "        const element = document.querySelector('#df-a84a9373-aff4-42f3-898d-f61fae44a0a4');\n",
              "        const dataTable =\n",
              "          await google.colab.kernel.invokeFunction('convertToInteractive',\n",
              "                                                    [key], {});\n",
              "        if (!dataTable) return;\n",
              "\n",
              "        const docLinkHtml = 'Like what you see? Visit the ' +\n",
              "          '<a target=\"_blank\" href=https://colab.research.google.com/notebooks/data_table.ipynb>data table notebook</a>'\n",
              "          + ' to learn more about interactive tables.';\n",
              "        element.innerHTML = '';\n",
              "        dataTable['output_type'] = 'display_data';\n",
              "        await google.colab.output.renderOutput(dataTable, element);\n",
              "        const docLink = document.createElement('div');\n",
              "        docLink.innerHTML = docLinkHtml;\n",
              "        element.appendChild(docLink);\n",
              "      }\n",
              "    </script>\n",
              "  </div>\n",
              "\n",
              "\n",
              "<div id=\"df-ad57e3de-2683-4b64-acd8-1ac223e81fe1\">\n",
              "  <button class=\"colab-df-quickchart\" onclick=\"quickchart('df-ad57e3de-2683-4b64-acd8-1ac223e81fe1')\"\n",
              "            title=\"Suggest charts.\"\n",
              "            style=\"display:none;\">\n",
              "\n",
              "<svg xmlns=\"http://www.w3.org/2000/svg\" height=\"24px\"viewBox=\"0 0 24 24\"\n",
              "     width=\"24px\">\n",
              "    <g>\n",
              "        <path d=\"M19 3H5c-1.1 0-2 .9-2 2v14c0 1.1.9 2 2 2h14c1.1 0 2-.9 2-2V5c0-1.1-.9-2-2-2zM9 17H7v-7h2v7zm4 0h-2V7h2v10zm4 0h-2v-4h2v4z\"/>\n",
              "    </g>\n",
              "</svg>\n",
              "  </button>\n",
              "\n",
              "<style>\n",
              "  .colab-df-quickchart {\n",
              "      --bg-color: #E8F0FE;\n",
              "      --fill-color: #1967D2;\n",
              "      --hover-bg-color: #E2EBFA;\n",
              "      --hover-fill-color: #174EA6;\n",
              "      --disabled-fill-color: #AAA;\n",
              "      --disabled-bg-color: #DDD;\n",
              "  }\n",
              "\n",
              "  [theme=dark] .colab-df-quickchart {\n",
              "      --bg-color: #3B4455;\n",
              "      --fill-color: #D2E3FC;\n",
              "      --hover-bg-color: #434B5C;\n",
              "      --hover-fill-color: #FFFFFF;\n",
              "      --disabled-bg-color: #3B4455;\n",
              "      --disabled-fill-color: #666;\n",
              "  }\n",
              "\n",
              "  .colab-df-quickchart {\n",
              "    background-color: var(--bg-color);\n",
              "    border: none;\n",
              "    border-radius: 50%;\n",
              "    cursor: pointer;\n",
              "    display: none;\n",
              "    fill: var(--fill-color);\n",
              "    height: 32px;\n",
              "    padding: 0;\n",
              "    width: 32px;\n",
              "  }\n",
              "\n",
              "  .colab-df-quickchart:hover {\n",
              "    background-color: var(--hover-bg-color);\n",
              "    box-shadow: 0 1px 2px rgba(60, 64, 67, 0.3), 0 1px 3px 1px rgba(60, 64, 67, 0.15);\n",
              "    fill: var(--button-hover-fill-color);\n",
              "  }\n",
              "\n",
              "  .colab-df-quickchart-complete:disabled,\n",
              "  .colab-df-quickchart-complete:disabled:hover {\n",
              "    background-color: var(--disabled-bg-color);\n",
              "    fill: var(--disabled-fill-color);\n",
              "    box-shadow: none;\n",
              "  }\n",
              "\n",
              "  .colab-df-spinner {\n",
              "    border: 2px solid var(--fill-color);\n",
              "    border-color: transparent;\n",
              "    border-bottom-color: var(--fill-color);\n",
              "    animation:\n",
              "      spin 1s steps(1) infinite;\n",
              "  }\n",
              "\n",
              "  @keyframes spin {\n",
              "    0% {\n",
              "      border-color: transparent;\n",
              "      border-bottom-color: var(--fill-color);\n",
              "      border-left-color: var(--fill-color);\n",
              "    }\n",
              "    20% {\n",
              "      border-color: transparent;\n",
              "      border-left-color: var(--fill-color);\n",
              "      border-top-color: var(--fill-color);\n",
              "    }\n",
              "    30% {\n",
              "      border-color: transparent;\n",
              "      border-left-color: var(--fill-color);\n",
              "      border-top-color: var(--fill-color);\n",
              "      border-right-color: var(--fill-color);\n",
              "    }\n",
              "    40% {\n",
              "      border-color: transparent;\n",
              "      border-right-color: var(--fill-color);\n",
              "      border-top-color: var(--fill-color);\n",
              "    }\n",
              "    60% {\n",
              "      border-color: transparent;\n",
              "      border-right-color: var(--fill-color);\n",
              "    }\n",
              "    80% {\n",
              "      border-color: transparent;\n",
              "      border-right-color: var(--fill-color);\n",
              "      border-bottom-color: var(--fill-color);\n",
              "    }\n",
              "    90% {\n",
              "      border-color: transparent;\n",
              "      border-bottom-color: var(--fill-color);\n",
              "    }\n",
              "  }\n",
              "</style>\n",
              "\n",
              "  <script>\n",
              "    async function quickchart(key) {\n",
              "      const quickchartButtonEl =\n",
              "        document.querySelector('#' + key + ' button');\n",
              "      quickchartButtonEl.disabled = true;  // To prevent multiple clicks.\n",
              "      quickchartButtonEl.classList.add('colab-df-spinner');\n",
              "      try {\n",
              "        const charts = await google.colab.kernel.invokeFunction(\n",
              "            'suggestCharts', [key], {});\n",
              "      } catch (error) {\n",
              "        console.error('Error during call to suggestCharts:', error);\n",
              "      }\n",
              "      quickchartButtonEl.classList.remove('colab-df-spinner');\n",
              "      quickchartButtonEl.classList.add('colab-df-quickchart-complete');\n",
              "    }\n",
              "    (() => {\n",
              "      let quickchartButtonEl =\n",
              "        document.querySelector('#df-ad57e3de-2683-4b64-acd8-1ac223e81fe1 button');\n",
              "      quickchartButtonEl.style.display =\n",
              "        google.colab.kernel.accessAllowed ? 'block' : 'none';\n",
              "    })();\n",
              "  </script>\n",
              "</div>\n",
              "    </div>\n",
              "  </div>\n"
            ]
          },
          "metadata": {},
          "execution_count": 34
        }
      ]
    },
    {
      "cell_type": "code",
      "source": [
        "for index, row in dados_medias.iterrows():\n",
        "    data = row[1:]\n",
        "\n",
        "    plt.figure(figsize=(8, 4))\n",
        "    plt.bar(dados_medias.columns[1:], data)\n",
        "    plt.xlabel('')\n",
        "    plt.ylabel('Valores')\n",
        "    plt.title(f'Gráfico {dados_medias.iloc[index, 0]}')\n",
        "\n",
        "    plt.show()"
      ],
      "metadata": {
        "colab": {
          "base_uri": "https://localhost:8080/",
          "height": 1000
        },
        "id": "ugcyKIngN5l_",
        "outputId": "77243424-b368-4c1a-b112-7518f74d318e"
      },
      "execution_count": 41,
      "outputs": [
        {
          "output_type": "display_data",
          "data": {
            "text/plain": [
              "<Figure size 800x400 with 1 Axes>"
            ],
            "image/png": "[encoded data removed]"
          },
          "metadata": {}
        },
        {
          "output_type": "display_data",
          "data": {
            "text/plain": [
              "<Figure size 800x400 with 1 Axes>"
            ],
            "image/png": "[encoded data removed]"
          },
          "metadata": {}
        },
        {
          "output_type": "display_data",
          "data": {
            "text/plain": [
              "<Figure size 800x400 with 1 Axes>"
            ],
            "image/png": "[encoded data removed]"
          },
          "metadata": {}
        },
        {
          "output_type": "display_data",
          "data": {
            "text/plain": [
              "<Figure size 800x400 with 1 Axes>"
            ],
            "image/png": "[encoded data removed]"
          },
          "metadata": {}
        },
        {
          "output_type": "display_data",
          "data": {
            "text/plain": [
              "<Figure size 800x400 with 1 Axes>"
            ],
            "image/png": "[encoded data removed]"
          },
          "metadata": {}
        }
      ]
    },
    {
      "cell_type": "code",
      "source": [],
      "metadata": {
        "id": "ScUHo4tsN6QN"
      },
      "execution_count": null,
      "outputs": []
    },
    {
      "cell_type": "code",
      "source": [],
      "metadata": {
        "id": "6Jt1CUirN6So"
      },
      "execution_count": null,
      "outputs": []
    },
    {
      "cell_type": "code",
      "source": [],
      "metadata": {
        "id": "3Vj5wJLkN6VD"
      },
      "execution_count": null,
      "outputs": []
    },
    {
      "cell_type": "code",
      "source": [],
      "metadata": {
        "id": "2YnXIi9sN6XW"
      },
      "execution_count": null,
      "outputs": []
    },
    {
      "cell_type": "code",
      "source": [],
      "metadata": {
        "id": "Qqe3SnaNN6Zi"
      },
      "execution_count": null,
      "outputs": []
    },
    {
      "cell_type": "code",
      "source": [],
      "metadata": {
        "id": "NEigr6cwN6bz"
      },
      "execution_count": null,
      "outputs": []
    }
  ]
}